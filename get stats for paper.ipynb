{
 "cells": [
  {
   "cell_type": "code",
   "execution_count": 19,
   "id": "4043fa21-887b-46a9-b854-0b51c9f02017",
   "metadata": {},
   "outputs": [
    {
     "name": "stdout",
     "output_type": "stream",
     "text": [
      "3479 5\n"
     ]
    }
   ],
   "source": [
    "import pickle \n",
    "with open('book_qas.pkl', 'rb') as file:\n",
    "    book_qas = pickle.load(file)\n",
    "print(len(book_qas),len(book_qas[0]))"
   ]
  },
  {
   "cell_type": "code",
   "execution_count": 40,
   "id": "65014afe-6a65-4a10-96a2-1c32da6457b5",
   "metadata": {},
   "outputs": [
    {
     "data": {
      "text/plain": [
       "(\"books/SCHAUM's Outlines - Advanced Calculus, 3rd Edition_2010/2024_04_03_ffb6ac533fe0a53b3ceeg/2024_04_03_ffb6ac533fe0a53b3ceeg.json\",\n",
       " 'solved with work',\n",
       " '\\n4.29. Evaluate $\\\\lim _{x \\\\rightarrow 0+} x^{2} \\\\ln x$.\\n\\n$$\\n\\\\lim _{x \\\\rightarrow 0+} x^{2} \\\\operatorname{In} x=\\\\lim _{x \\\\rightarrow 0+} \\\\frac{\\\\operatorname{In} x}{1 / x^{2}}=\\\\lim _{x \\\\rightarrow 0+} \\\\frac{1 / x}{-2 / x^{3}} \\\\lim _{x \\\\rightarrow 0+} \\\\frac{-x^{2}}{2}=0\\n$$\\n\\nThe given limit has the \"indeterminate form\" $0 \\\\cdot \\\\infty$. In the second step the form is altered so as to give the indeterminate form $\\\\infty / \\\\infty$, and L\\'Hospital\\'s rule is then applied.\\n',\n",
       " 'Evaluate $\\\\lim _{x \\\\rightarrow 0+} x^{2} \\\\ln x$.',\n",
       " '$$\\n\\\\lim _{x \\\\rightarrow 0+} x^{2} \\\\operatorname{In} x=\\\\lim _{x \\\\rightarrow 0+} \\\\frac{\\\\operatorname{In} x}{1 / x^{2}}=\\\\lim _{x \\\\rightarrow 0+} \\\\frac{1 / x}{-2 / x^{3}} \\\\lim _{x \\\\rightarrow 0+} \\\\frac{-x^{2}}{2}=0\\n$$\\n\\nThe given limit has the \"indeterminate form\" $0 \\\\cdot \\\\infty$. In the second step the form is altered so as to give the indeterminate form $\\\\infty / \\\\infty$, and L\\'Hospital\\'s rule is then applied.')"
      ]
     },
     "execution_count": 40,
     "metadata": {},
     "output_type": "execute_result"
    }
   ],
   "source": [
    "book_qas[123]"
   ]
  },
  {
   "cell_type": "code",
   "execution_count": 33,
   "id": "176ae9de-7381-4e4a-add7-e1d384c22d1a",
   "metadata": {},
   "outputs": [
    {
     "name": "stdout",
     "output_type": "stream",
     "text": [
      "3302\n"
     ]
    }
   ],
   "source": [
    "unique_problems = set()\n",
    "for i in range(len(book_qas)):\n",
    "    all = book_qas[i]\n",
    "    unique_problems.add(str(all[2]))\n",
    "\n",
    "print(len(unique_problems))"
   ]
  },
  {
   "cell_type": "code",
   "execution_count": 37,
   "id": "c6f5e4da-0b15-469d-a1ae-bb17dc55476e",
   "metadata": {},
   "outputs": [
    {
     "data": {
      "text/plain": [
       "(280, 'include graphics')"
      ]
     },
     "execution_count": 37,
     "metadata": {},
     "output_type": "execute_result"
    }
   ],
   "source": [
    "len([str(problem[2]) for problem in book_qas if \"includegraphics\" in str(problem[2]).lower()]),\"include graphics\""
   ]
  },
  {
   "cell_type": "code",
   "execution_count": 38,
   "id": "c0bc3bab-13c9-44fb-99af-6d58a7e020f4",
   "metadata": {},
   "outputs": [
    {
     "data": {
      "text/plain": [
       "(2, 'include graphics in question')"
      ]
     },
     "execution_count": 38,
     "metadata": {},
     "output_type": "execute_result"
    }
   ],
   "source": [
    "len([str(problem[2]) for problem in book_qas if \"includegraphics\" in str(problem[3]).lower()]),\"include graphics in question\""
   ]
  },
  {
   "cell_type": "code",
   "execution_count": 39,
   "id": "bb6fdad0-8e83-4d30-88f9-fd7ac75fc0ba",
   "metadata": {},
   "outputs": [
    {
     "data": {
      "text/plain": [
       "(151, 'include graphics in answer')"
      ]
     },
     "execution_count": 39,
     "metadata": {},
     "output_type": "execute_result"
    }
   ],
   "source": [
    "len([str(problem[2]) for problem in book_qas if \"includegraphics\" in str(problem[4]).lower()]),\"include graphics in answer\""
   ]
  },
  {
   "cell_type": "code",
   "execution_count": 41,
   "id": "ef1f45f9-b338-4ca3-9d12-6e604c0e9130",
   "metadata": {},
   "outputs": [
    {
     "data": {
      "text/plain": [
       "5221"
      ]
     },
     "execution_count": 41,
     "metadata": {},
     "output_type": "execute_result"
    }
   ],
   "source": [
    "3210+1206+682+123"
   ]
  },
  {
   "cell_type": "code",
   "execution_count": 43,
   "id": "62fa9c36-2635-4065-9858-61f87031db95",
   "metadata": {},
   "outputs": [
    {
     "data": {
      "text/plain": [
       "{\"books/SCHAUM's Outlines - Advanced Calculus, 3rd Edition_2010/2024_04_03_ffb6ac533fe0a53b3ceeg/2024_04_03_ffb6ac533fe0a53b3ceeg.json\",\n",
       " \"books/Schaum's Outlines - Linear Algebra,Fourth Edition/2024_04_03_de2bde501961f6000cc6g/2024_04_03_de2bde501961f6000cc6g.json\",\n",
       " \"books/Schaum's Outlines - Tensor Calculus/2024_04_03_41f90be4f896e21f0dc9g/2024_04_03_41f90be4f896e21f0dc9g.json\",\n",
       " \"books/Schaum's_Outlines_-_Discrete_Mathematics,_3rd_Ed._by_Seymour_Lipschutz/2024_04_03_e2bc10318661343af903g/2024_04_03_e2bc10318661343af903g.json\"}"
      ]
     },
     "execution_count": 43,
     "metadata": {},
     "output_type": "execute_result"
    }
   ],
   "source": [
    "set([str(problem[0]) for problem in book_qas])"
   ]
  },
  {
   "cell_type": "code",
   "execution_count": 46,
   "id": "829f6518-2f6e-4c57-803c-387697ee211b",
   "metadata": {},
   "outputs": [],
   "source": [
    "a=\"\"\"\n",
    "books/Schaum's Outlines - Linear Algebra,Fourth Edition/2024_04_03_de2bde501961f6000cc6g/2024_04_03_de2bde501961f6000cc6g.json\n",
    "this book has 13 chapters, 502 groups of solved problems, and 291 groups of unworked problems with answers\n",
    "books/SCHAUM's Outlines - Advanced Calculus, 3rd Edition_2010/2024_04_03_ffb6ac533fe0a53b3ceeg/2024_04_03_ffb6ac533fe0a53b3ceeg.json\n",
    "this book has 15 chapters, 498 groups of solved problems, and 823 groups of unworked problems with answers\n",
    "books/Schaum's Outlines - Tensor Calculus/2024_04_03_41f90be4f896e21f0dc9g/2024_04_03_41f90be4f896e21f0dc9g.json\n",
    "this book has 13 chapters, 261 groups of solved problems, and 211 groups of unworked problems with answers\n",
    "books/Schaum's_Outlines_-_Discrete_Mathematics,_3rd_Ed._by_Seymour_Lipschutz/2024_04_03_e2bc10318661343af903g/2024_04_03_e2bc10318661343af903g.json\n",
    "this book has 16 chapters, 410 groups of solved problems, and 385 groups of unworked problems with answers\n",
    "\"\"\"\n",
    "#a total of 57 chapters, 1671 groups of solved problems, and 1710 groups of unworked problems with answers (some dropped)"
   ]
  },
  {
   "cell_type": "code",
   "execution_count": 49,
   "id": "bf915edd-9642-4771-8548-540a28b2b11e",
   "metadata": {},
   "outputs": [
    {
     "data": {
      "text/plain": [
       "3302"
      ]
     },
     "execution_count": 49,
     "metadata": {},
     "output_type": "execute_result"
    }
   ],
   "source": [
    "1642+1660"
   ]
  },
  {
   "cell_type": "code",
   "execution_count": 60,
   "id": "d0f2bdcc-48a7-45d9-a485-6f1e3c11bfce",
   "metadata": {},
   "outputs": [
    {
     "data": {
      "text/plain": [
       "(3210, 2011, 5221, 0.6148247462171997, 0.6886037157632637, 3595.2)"
      ]
     },
     "execution_count": 60,
     "metadata": {},
     "output_type": "execute_result"
    }
   ],
   "source": [
    "grades = {2: 3210, -1: 1206, 1: 682, 0: 123, 4: 1}\n",
    "wrong = grades[0]+grades[1]+grades[-1]\n",
    "right = grades[2]\n",
    "right, wrong, right+wrong, right/(right+wrong), right/(right+wrong)*1.12, (right/(right+wrong)*1.12)*(right+wrong)"
   ]
  }
 ],
 "metadata": {
  "kernelspec": {
   "display_name": "Python 3 (ipykernel)",
   "language": "python",
   "name": "python3"
  },
  "language_info": {
   "codemirror_mode": {
    "name": "ipython",
    "version": 3
   },
   "file_extension": ".py",
   "mimetype": "text/x-python",
   "name": "python",
   "nbconvert_exporter": "python",
   "pygments_lexer": "ipython3",
   "version": "3.10.12"
  }
 },
 "nbformat": 4,
 "nbformat_minor": 5
}
